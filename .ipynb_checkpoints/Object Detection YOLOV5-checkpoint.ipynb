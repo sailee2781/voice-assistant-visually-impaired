{
 "cells": [
  {
   "cell_type": "code",
   "execution_count": 6,
   "id": "325d3a40",
   "metadata": {},
   "outputs": [
    {
     "ename": "ModuleNotFoundError",
     "evalue": "No module named 'speech_recognition'",
     "output_type": "error",
     "traceback": [
      "\u001b[1;31m---------------------------------------------------------------------------\u001b[0m",
      "\u001b[1;31mModuleNotFoundError\u001b[0m                       Traceback (most recent call last)",
      "\u001b[1;32m<ipython-input-6-44facb9ec1c8>\u001b[0m in \u001b[0;36m<module>\u001b[1;34m\u001b[0m\n\u001b[0;32m      3\u001b[0m \u001b[1;32mimport\u001b[0m \u001b[0mmatplotlib\u001b[0m\u001b[1;33m.\u001b[0m\u001b[0mpyplot\u001b[0m \u001b[1;32mas\u001b[0m \u001b[0mplt\u001b[0m\u001b[1;33m\u001b[0m\u001b[1;33m\u001b[0m\u001b[0m\n\u001b[0;32m      4\u001b[0m \u001b[1;33m\u001b[0m\u001b[0m\n\u001b[1;32m----> 5\u001b[1;33m \u001b[1;32mimport\u001b[0m \u001b[0mspeech_recognition\u001b[0m \u001b[1;32mas\u001b[0m \u001b[0msr\u001b[0m \u001b[1;31m#pip install speechRecognition\u001b[0m\u001b[1;33m\u001b[0m\u001b[1;33m\u001b[0m\u001b[0m\n\u001b[0m\u001b[0;32m      6\u001b[0m \u001b[1;32mimport\u001b[0m \u001b[0mdatetime\u001b[0m\u001b[1;33m\u001b[0m\u001b[1;33m\u001b[0m\u001b[0m\n\u001b[0;32m      7\u001b[0m \u001b[1;32mimport\u001b[0m \u001b[0mwikipedia\u001b[0m \u001b[1;31m#pip install wikipedia\u001b[0m\u001b[1;33m\u001b[0m\u001b[1;33m\u001b[0m\u001b[0m\n",
      "\u001b[1;31mModuleNotFoundError\u001b[0m: No module named 'speech_recognition'"
     ]
    }
   ],
   "source": [
    "import cv2\n",
    "import numpy as np\n",
    "import matplotlib.pyplot as plt\n",
    "import pyttsx3 #pip install pyttsx3\n",
    "import speech_recognition as sr #pip install speechRecognition\n",
    "import datetime\n",
    "import wikipedia #pip install wikipedia\n",
    "import webbrowser\n",
    "import os\n",
    "import smtplib\n",
    "import time\n",
    "from bs4 import BeautifulSoup\n",
    "import requests, json\n"
   ]
  },
  {
   "cell_type": "code",
   "execution_count": null,
   "id": "921eb19f",
   "metadata": {},
   "outputs": [],
   "source": [
    "yolo = cv2.dnn.readNet(\"./yolov5.weights\" , \"./yolov5.cfg\")"
   ]
  },
  {
   "cell_type": "code",
   "execution_count": null,
   "id": "ac57f9e1",
   "metadata": {},
   "outputs": [],
   "source": [
    "classes = []\n",
    "with open(\"./coco.names\",'r') as f:\n",
    "  classes = f.read().splitlines()"
   ]
  },
  {
   "cell_type": "code",
   "execution_count": null,
   "id": "0ef903d1",
   "metadata": {},
   "outputs": [],
   "source": [
    "len(classes)"
   ]
  },
  {
   "cell_type": "code",
   "execution_count": null,
   "id": "beb9478f",
   "metadata": {},
   "outputs": [],
   "source": [
    "img = cv2.imread(\"./Indian-img.jpeg\")\n",
    "height , width, _ = img.shape\n",
    "print(img.shape)"
   ]
  },
  {
   "cell_type": "code",
   "execution_count": null,
   "id": "d0197727",
   "metadata": {},
   "outputs": [],
   "source": [
    "plt.imshow(img)"
   ]
  },
  {
   "cell_type": "code",
   "execution_count": null,
   "id": "a56dc0e4",
   "metadata": {},
   "outputs": [],
   "source": [
    "blob = cv2.dnn.blobFromImage(img,1/255,(320,320),(0,0,0),swapRB=True,crop=False)"
   ]
  },
  {
   "cell_type": "code",
   "execution_count": null,
   "id": "f6d4a0d3",
   "metadata": {},
   "outputs": [],
   "source": [
    "blob.shape"
   ]
  },
  {
   "cell_type": "code",
   "execution_count": null,
   "id": "fb7caeb8",
   "metadata": {},
   "outputs": [],
   "source": [
    "blob.size"
   ]
  },
  {
   "cell_type": "code",
   "execution_count": null,
   "id": "21f86420",
   "metadata": {},
   "outputs": [],
   "source": [
    "i= blob[0].reshape(320,320,3)\n",
    "plt.imshow(i)"
   ]
  },
  {
   "cell_type": "code",
   "execution_count": null,
   "id": "29f464b1",
   "metadata": {},
   "outputs": [],
   "source": [
    "yolo.setInput(blob)"
   ]
  },
  {
   "cell_type": "code",
   "execution_count": null,
   "id": "607fd1d3",
   "metadata": {},
   "outputs": [],
   "source": [
    "output_layes_name = yolo.getUnconnectedOutLayersNames()\n",
    "layeroutput = yolo.forward(output_layes_name)"
   ]
  },
  {
   "cell_type": "code",
   "execution_count": null,
   "id": "740406f7",
   "metadata": {},
   "outputs": [],
   "source": [
    "boxes = []\n",
    "confidences = []\n",
    "class_ids = []\n",
    "\n",
    "for output in layeroutput:\n",
    "  for detection in output:\n",
    "    score = detection[5:]\n",
    "    class_id = np.argmax(score)\n",
    "    confidence = score[class_id]\n",
    "    if confidence > 0.7:\n",
    "      center_x = int(detection[0]*width)\n",
    "      center_y = int(detection[1]*height)\n",
    "      w = int(detection[2]*width)\n",
    "      h = int(detection[3]*height)\n",
    "\n",
    "      x = int(center_x-w/2)\n",
    "      y = int(center_y-h/2)\n",
    "\n",
    "      boxes.append([x,y,w,h])\n",
    "      confidences.append((float(confidence)))\n",
    "      class_ids.append(class_id)"
   ]
  },
  {
   "cell_type": "code",
   "execution_count": null,
   "id": "181e01cb",
   "metadata": {},
   "outputs": [],
   "source": [
    "len(boxes)"
   ]
  },
  {
   "cell_type": "code",
   "execution_count": null,
   "id": "1ed6a851",
   "metadata": {},
   "outputs": [],
   "source": [
    "indexes = cv2.dnn.NMSBoxes(boxes ,confidences , 0.5 , 0.4)"
   ]
  },
  {
   "cell_type": "code",
   "execution_count": null,
   "id": "0f9d0c52",
   "metadata": {},
   "outputs": [],
   "source": [
    "font = cv2.FONT_HERSHEY_PLAIN\n",
    "colors = np.random.uniform (0,255,size=(len(boxes),3))"
   ]
  },
  {
   "cell_type": "code",
   "execution_count": 37,
   "id": "362b6b11",
   "metadata": {},
   "outputs": [],
   "source": [
    "result = []"
   ]
  },
  {
   "cell_type": "code",
   "execution_count": 38,
   "id": "b777ee89",
   "metadata": {},
   "outputs": [],
   "source": [
    "for i in indexes.flatten():\n",
    "  x,y,w,h = boxes[i]\n",
    "  label = str(classes[class_ids[i]])\n",
    "  confi = str(round(confidences[i],3))\n",
    "  color = colors[i]\n",
    "  \n",
    "  result.append((label, confi))\n",
    "\n",
    "  cv2.rectangle(img,(x,y),(x+w,y+h),color,2)\n",
    "  cv2.putText(img,label + \" \" + confi,(x,y+20),font,2,(1,1,1),2)"
   ]
  },
  {
   "cell_type": "code",
   "execution_count": 39,
   "id": "4c8b4a7f",
   "metadata": {},
   "outputs": [
    {
     "data": {
      "text/plain": [
       "[('car', '0.99'), ('car', '0.985'), ('car', '0.937')]"
      ]
     },
     "execution_count": 39,
     "metadata": {},
     "output_type": "execute_result"
    }
   ],
   "source": [
    "result"
   ]
  },
  {
   "cell_type": "code",
   "execution_count": 40,
   "id": "bf103725",
   "metadata": {},
   "outputs": [],
   "source": [
    "cv2.imshow(\"image\",img)\n",
    "cv2.waitKey(0)\n",
    "cv2.destroyAllWindows()"
   ]
  },
  {
   "cell_type": "code",
   "execution_count": 41,
   "id": "89580833",
   "metadata": {},
   "outputs": [],
   "source": [
    "engine = pyttsx3.init('sapi5')\n",
    "voices = engine.getProperty('voices')\n",
    "# print(voices[1].id)\n",
    "engine.setProperty('voice', voices[0].id)\n",
    "def speak(audio):\n",
    "    engine.say(audio)\n",
    "    engine.runAndWait()\n",
    "\n",
    "    \n",
    "speak(\"IT IS CAR\")"
   ]
  },
  {
   "cell_type": "code",
   "execution_count": null,
   "id": "37aaaea3",
   "metadata": {},
   "outputs": [],
   "source": []
  }
 ],
 "metadata": {
  "kernelspec": {
   "display_name": "Python 3",
   "language": "python",
   "name": "python3"
  }
 },
 "nbformat": 4,
 "nbformat_minor": 5
}
